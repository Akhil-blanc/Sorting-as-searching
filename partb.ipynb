{
 "cells": [
  {
   "cell_type": "markdown",
   "metadata": {},
   "source": [
    "## Uninformed Search"
   ]
  },
  {
   "cell_type": "code",
   "execution_count": 48,
   "metadata": {},
   "outputs": [],
   "source": [
    "import numpy as np\n",
    "import random\n",
    "from bfs import bfs\n",
    "from dfs import dfs\n",
    "from ucs import ucs\n",
    "from iterative_deepening import iterative_deepening\n",
    "from hillclimbing import hillclimbing\n",
    "from utils import problem,node\n"
   ]
  },
  {
   "cell_type": "code",
   "execution_count": 49,
   "metadata": {},
   "outputs": [],
   "source": [
    "def generate_random_start_state(n):\n",
    "      return random.sample(range(-100, 100), n)\n",
    "\n",
    "def get_avg_nodes(search):\n",
    "  for n in [3,4,5,6]:\n",
    "    total = 0\n",
    "    for i in range(20):\n",
    "        start = generate_random_start_state(n)\n",
    "        problem1 = problem(start,sorted(start))\n",
    "        solution, explored= search(problem1)\n",
    "        total += len(explored)\n",
    "    print(f\"Results for n={n}:\")\n",
    "    print(f\"Average Explored Nodes:\",total/20)\n",
    "    print(\"-\" * 40)"
   ]
  },
  {
   "cell_type": "code",
   "execution_count": 20,
   "metadata": {},
   "outputs": [
    {
     "name": "stdout",
     "output_type": "stream",
     "text": [
      "Results for n=3:\n",
      "Average Explored Nodes: 1.95\n",
      "----------------------------------------\n",
      "Results for n=4:\n",
      "Average Explored Nodes: 11.95\n",
      "----------------------------------------\n",
      "Results for n=5:\n",
      "Average Explored Nodes: 48.95\n",
      "----------------------------------------\n",
      "Results for n=6:\n",
      "Average Explored Nodes: 327.1\n",
      "----------------------------------------\n"
     ]
    }
   ],
   "source": [
    "get_avg_nodes(bfs)"
   ]
  },
  {
   "cell_type": "code",
   "execution_count": 21,
   "metadata": {},
   "outputs": [
    {
     "name": "stdout",
     "output_type": "stream",
     "text": [
      "Results for n=3:\n",
      "Average Explored Nodes: 2.7\n",
      "----------------------------------------\n",
      "Results for n=4:\n",
      "Average Explored Nodes: 11.85\n",
      "----------------------------------------\n",
      "Results for n=5:\n",
      "Average Explored Nodes: 61.45\n",
      "----------------------------------------\n",
      "Results for n=6:\n",
      "Average Explored Nodes: 314.1\n",
      "----------------------------------------\n"
     ]
    }
   ],
   "source": [
    "get_avg_nodes(dfs)"
   ]
  },
  {
   "cell_type": "code",
   "execution_count": 50,
   "metadata": {},
   "outputs": [
    {
     "name": "stdout",
     "output_type": "stream",
     "text": [
      "Results for n=3:\n",
      "Average Explored Nodes: 2.6\n",
      "----------------------------------------\n",
      "Results for n=4:\n",
      "Average Explored Nodes: 11.45\n",
      "----------------------------------------\n",
      "Results for n=5:\n",
      "Average Explored Nodes: 47.45\n",
      "----------------------------------------\n",
      "Results for n=6:\n",
      "Average Explored Nodes: 430.65\n",
      "----------------------------------------\n"
     ]
    }
   ],
   "source": [
    "get_avg_nodes(ucs)"
   ]
  },
  {
   "cell_type": "code",
   "execution_count": 23,
   "metadata": {},
   "outputs": [
    {
     "name": "stdout",
     "output_type": "stream",
     "text": [
      "Results for n=3:\n",
      "Average Explored Nodes: 1.7\n",
      "----------------------------------------\n",
      "Results for n=4:\n",
      "Average Explored Nodes: 6.1\n",
      "----------------------------------------\n",
      "Results for n=5:\n",
      "Average Explored Nodes: 32.35\n",
      "----------------------------------------\n",
      "Results for n=6:\n",
      "Average Explored Nodes: 169.35\n",
      "----------------------------------------\n"
     ]
    }
   ],
   "source": [
    "get_avg_nodes(iterative_deepening)"
   ]
  },
  {
   "cell_type": "markdown",
   "metadata": {},
   "source": [
    "## informed search"
   ]
  },
  {
   "cell_type": "code",
   "execution_count": 43,
   "metadata": {},
   "outputs": [],
   "source": [
    "from Astar import astar_search, problem, node\n",
    "from greedy_search import greedy_search"
   ]
  },
  {
   "cell_type": "code",
   "execution_count": 44,
   "metadata": {},
   "outputs": [],
   "source": [
    "def get_avg_nodes(search):\n",
    "  for n in [3,4,5,6]:\n",
    "    total = 0\n",
    "    for i in range(20):\n",
    "        start = generate_random_start_state(n)\n",
    "        problem1 = problem(start,sorted(start))\n",
    "        solution, explored= search(problem1)\n",
    "        total += len(explored)\n",
    "    print(f\"Results for n={n}:\")\n",
    "    print(f\"Average Explored Nodes:\",total/20)\n",
    "    print(\"-\" * 40)"
   ]
  },
  {
   "cell_type": "code",
   "execution_count": 45,
   "metadata": {},
   "outputs": [
    {
     "name": "stdout",
     "output_type": "stream",
     "text": [
      "Results for n=3:\n",
      "Average Explored Nodes: 2.5\n",
      "----------------------------------------\n",
      "Results for n=4:\n",
      "Average Explored Nodes: 12.75\n",
      "----------------------------------------\n",
      "Results for n=5:\n",
      "Average Explored Nodes: 51.75\n",
      "----------------------------------------\n",
      "Results for n=6:\n",
      "Average Explored Nodes: 361.75\n",
      "----------------------------------------\n"
     ]
    }
   ],
   "source": [
    "get_avg_nodes(greedy_search)"
   ]
  },
  {
   "cell_type": "code",
   "execution_count": 46,
   "metadata": {},
   "outputs": [
    {
     "name": "stdout",
     "output_type": "stream",
     "text": [
      "Results for n=3:\n",
      "Average Explored Nodes: 2.85\n",
      "----------------------------------------\n",
      "Results for n=4:\n",
      "Average Explored Nodes: 10.85\n",
      "----------------------------------------\n",
      "Results for n=5:\n",
      "Average Explored Nodes: 62.95\n",
      "----------------------------------------\n",
      "Results for n=6:\n",
      "Average Explored Nodes: 329.7\n",
      "----------------------------------------\n"
     ]
    }
   ],
   "source": [
    "get_avg_nodes(astar_search)"
   ]
  },
  {
   "cell_type": "markdown",
   "metadata": {},
   "source": [
    "## local search"
   ]
  },
  {
   "cell_type": "code",
   "execution_count": 28,
   "metadata": {},
   "outputs": [],
   "source": [
    "from hillclimbing import *"
   ]
  },
  {
   "cell_type": "code",
   "execution_count": 33,
   "metadata": {},
   "outputs": [],
   "source": [
    "def get_avg_nodes(search):\n",
    "  for n in [3,4,5,6]:\n",
    "    total = 0\n",
    "    for i in range(20):\n",
    "        start = generate_random_start_state(n)\n",
    "        problem1 = problem(start,sorted(start))\n",
    "        solution= search(problem1)\n",
    "        total += len(list(solution.path()))\n",
    "    print(f\"Results for n={n}:\")\n",
    "    print(f\"Average Explored Nodes:\",total/20)\n",
    "    print(\"-\" * 40)"
   ]
  },
  {
   "cell_type": "code",
   "execution_count": 34,
   "metadata": {},
   "outputs": [
    {
     "name": "stdout",
     "output_type": "stream",
     "text": [
      "Results for n=3:\n",
      "Average Explored Nodes: 2.35\n",
      "----------------------------------------\n",
      "Results for n=4:\n",
      "Average Explored Nodes: 2.85\n",
      "----------------------------------------\n",
      "Results for n=5:\n",
      "Average Explored Nodes: 3.65\n",
      "----------------------------------------\n",
      "Results for n=6:\n",
      "Average Explored Nodes: 4.6\n",
      "----------------------------------------\n"
     ]
    }
   ],
   "source": [
    "get_avg_nodes(hillclimbing)"
   ]
  },
  {
   "cell_type": "code",
   "execution_count": null,
   "metadata": {},
   "outputs": [],
   "source": []
  }
 ],
 "metadata": {
  "kernelspec": {
   "display_name": "base",
   "language": "python",
   "name": "python3"
  },
  "language_info": {
   "codemirror_mode": {
    "name": "ipython",
    "version": 3
   },
   "file_extension": ".py",
   "mimetype": "text/x-python",
   "name": "python",
   "nbconvert_exporter": "python",
   "pygments_lexer": "ipython3",
   "version": "3.9.12"
  },
  "orig_nbformat": 4
 },
 "nbformat": 4,
 "nbformat_minor": 2
}
